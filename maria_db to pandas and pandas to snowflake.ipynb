{
 "cells": [
  {
   "cell_type": "markdown",
   "id": "48d03767",
   "metadata": {},
   "source": [
    "\n",
    "# Install below libraries\n"
   ]
  },
  {
   "cell_type": "code",
   "execution_count": 171,
   "id": "8796ff0b",
   "metadata": {},
   "outputs": [],
   "source": [
    "# !pip install pymysql pandas\n",
    "# !pip install snowflake-connector-python\n",
    "# !pip install --upgrade snowflake-connector-python\n",
    "# !pip install \"snowflake-connector-python[secure-local-storage,pandas]\"\n"
   ]
  },
  {
   "cell_type": "markdown",
   "id": "97562b9e",
   "metadata": {},
   "source": [
    "# import libraries"
   ]
  },
  {
   "cell_type": "code",
   "execution_count": 172,
   "id": "1010da62",
   "metadata": {},
   "outputs": [],
   "source": [
    "import pymysql\n",
    "import pandas as pd\n",
    "import snowflake.connector"
   ]
  },
  {
   "cell_type": "markdown",
   "id": "ced4005d",
   "metadata": {},
   "source": [
    "# Connect to MariaDB"
   ]
  },
  {
   "cell_type": "code",
   "execution_count": 173,
   "id": "61701d41",
   "metadata": {},
   "outputs": [],
   "source": [
    "\n",
    "connection = pymysql.connect(\n",
    "    host='localhost',\n",
    "    user='root',\n",
    "    password='21Believe21',\n",
    "    db='bhagyesh_db'\n",
    ")"
   ]
  },
  {
   "cell_type": "code",
   "execution_count": 174,
   "id": "6c98da4e",
   "metadata": {},
   "outputs": [],
   "source": [
    "# CREATE OR REPLACE TABLE employees (\n",
    "#     employee_id INT,\n",
    "#     first_name STRING,\n",
    "#     last_name STRING,\n",
    "#     department STRING,\n",
    "#     salary NUMBER\n",
    "# )\n",
    "\n",
    "# INSERT INTO employees (employee_id, first_name, last_name, department, salary)\n",
    "# VALUES\n",
    "#     (1, 'John', 'Doe', 'IT', 60000),\n",
    "#     (2, 'Jane', 'Smith', 'HR', 55000),\n",
    "#     (3, 'Michael', 'Johnson', 'Finance', 70000),\n",
    "#     (4, 'Emily', 'Williams', 'Marketing', 60000),\n",
    "#     (5, 'Daniel', 'Brown', 'IT', 65000),\n",
    "#     (6, 'Olivia', 'Jones', 'HR', 58000),\n",
    "#     (7, 'David', 'Miller', 'Finance', 72000),\n",
    "#     (8, 'Sophia', 'Davis', 'Marketing', 61000),\n",
    "#     (9, 'James', 'Wilson', 'IT', 63000),\n",
    "#     (10, 'Ava', 'Moore', 'HR', 59000);\n",
    "    \n",
    "# SELECT * FROM employees;"
   ]
  },
  {
   "cell_type": "markdown",
   "id": "80a77be7",
   "metadata": {},
   "source": [
    "# write a query"
   ]
  },
  {
   "cell_type": "code",
   "execution_count": 175,
   "id": "85daa273",
   "metadata": {},
   "outputs": [],
   "source": [
    "\n",
    " \n",
    "query=\"\"\" SELECT * FROM employees;\"\"\""
   ]
  },
  {
   "cell_type": "markdown",
   "id": "ac132ac8",
   "metadata": {},
   "source": [
    "# Create a dataframe"
   ]
  },
  {
   "cell_type": "code",
   "execution_count": 176,
   "id": "3b693fa4",
   "metadata": {},
   "outputs": [
    {
     "name": "stderr",
     "output_type": "stream",
     "text": [
      "C:\\Users\\BHAGYESH\\AppData\\Local\\Temp/ipykernel_23624/208755241.py:1: UserWarning: pandas only supports SQLAlchemy connectable (engine/connection) or database string URI or sqlite3 DBAPI2 connection. Other DBAPI2 objects are not tested. Please consider using SQLAlchemy.\n",
      "  df = pd.read_sql(query, connection)\n"
     ]
    },
    {
     "data": {
      "text/html": [
       "<div>\n",
       "<style scoped>\n",
       "    .dataframe tbody tr th:only-of-type {\n",
       "        vertical-align: middle;\n",
       "    }\n",
       "\n",
       "    .dataframe tbody tr th {\n",
       "        vertical-align: top;\n",
       "    }\n",
       "\n",
       "    .dataframe thead th {\n",
       "        text-align: right;\n",
       "    }\n",
       "</style>\n",
       "<table border=\"1\" class=\"dataframe\">\n",
       "  <thead>\n",
       "    <tr style=\"text-align: right;\">\n",
       "      <th></th>\n",
       "      <th>employee_id</th>\n",
       "      <th>first_name</th>\n",
       "      <th>last_name</th>\n",
       "      <th>department</th>\n",
       "      <th>salary</th>\n",
       "    </tr>\n",
       "  </thead>\n",
       "  <tbody>\n",
       "    <tr>\n",
       "      <th>0</th>\n",
       "      <td>1</td>\n",
       "      <td>John</td>\n",
       "      <td>Doe</td>\n",
       "      <td>IT</td>\n",
       "      <td>60000.0</td>\n",
       "    </tr>\n",
       "    <tr>\n",
       "      <th>1</th>\n",
       "      <td>2</td>\n",
       "      <td>Jane</td>\n",
       "      <td>Smith</td>\n",
       "      <td>HR</td>\n",
       "      <td>55000.0</td>\n",
       "    </tr>\n",
       "    <tr>\n",
       "      <th>2</th>\n",
       "      <td>3</td>\n",
       "      <td>Michael</td>\n",
       "      <td>Johnson</td>\n",
       "      <td>Finance</td>\n",
       "      <td>70000.0</td>\n",
       "    </tr>\n",
       "    <tr>\n",
       "      <th>3</th>\n",
       "      <td>4</td>\n",
       "      <td>Emily</td>\n",
       "      <td>Williams</td>\n",
       "      <td>Marketing</td>\n",
       "      <td>60000.0</td>\n",
       "    </tr>\n",
       "    <tr>\n",
       "      <th>4</th>\n",
       "      <td>5</td>\n",
       "      <td>Daniel</td>\n",
       "      <td>Brown</td>\n",
       "      <td>IT</td>\n",
       "      <td>65000.0</td>\n",
       "    </tr>\n",
       "    <tr>\n",
       "      <th>5</th>\n",
       "      <td>6</td>\n",
       "      <td>Olivia</td>\n",
       "      <td>Jones</td>\n",
       "      <td>HR</td>\n",
       "      <td>58000.0</td>\n",
       "    </tr>\n",
       "    <tr>\n",
       "      <th>6</th>\n",
       "      <td>7</td>\n",
       "      <td>David</td>\n",
       "      <td>Miller</td>\n",
       "      <td>Finance</td>\n",
       "      <td>72000.0</td>\n",
       "    </tr>\n",
       "    <tr>\n",
       "      <th>7</th>\n",
       "      <td>8</td>\n",
       "      <td>Sophia</td>\n",
       "      <td>Davis</td>\n",
       "      <td>Marketing</td>\n",
       "      <td>61000.0</td>\n",
       "    </tr>\n",
       "    <tr>\n",
       "      <th>8</th>\n",
       "      <td>9</td>\n",
       "      <td>James</td>\n",
       "      <td>Wilson</td>\n",
       "      <td>IT</td>\n",
       "      <td>63000.0</td>\n",
       "    </tr>\n",
       "    <tr>\n",
       "      <th>9</th>\n",
       "      <td>10</td>\n",
       "      <td>Ava</td>\n",
       "      <td>Moore</td>\n",
       "      <td>HR</td>\n",
       "      <td>59000.0</td>\n",
       "    </tr>\n",
       "  </tbody>\n",
       "</table>\n",
       "</div>"
      ],
      "text/plain": [
       "   employee_id first_name last_name department   salary\n",
       "0            1       John       Doe         IT  60000.0\n",
       "1            2       Jane     Smith         HR  55000.0\n",
       "2            3    Michael   Johnson    Finance  70000.0\n",
       "3            4      Emily  Williams  Marketing  60000.0\n",
       "4            5     Daniel     Brown         IT  65000.0\n",
       "5            6     Olivia     Jones         HR  58000.0\n",
       "6            7      David    Miller    Finance  72000.0\n",
       "7            8     Sophia     Davis  Marketing  61000.0\n",
       "8            9      James    Wilson         IT  63000.0\n",
       "9           10        Ava     Moore         HR  59000.0"
      ]
     },
     "execution_count": 176,
     "metadata": {},
     "output_type": "execute_result"
    }
   ],
   "source": [
    "\n",
    "df = pd.read_sql(query, connection)\n",
    "df"
   ]
  },
  {
   "cell_type": "markdown",
   "id": "7a7e8c9f",
   "metadata": {},
   "source": [
    "# Export Employees table data to csv file"
   ]
  },
  {
   "cell_type": "code",
   "execution_count": 177,
   "id": "13610257",
   "metadata": {},
   "outputs": [],
   "source": [
    "csv_data=df.to_csv('temp.csv',index=False)"
   ]
  },
  {
   "cell_type": "markdown",
   "id": "00fea0d2",
   "metadata": {},
   "source": [
    "# close connection"
   ]
  },
  {
   "cell_type": "code",
   "execution_count": 178,
   "id": "1052081f",
   "metadata": {},
   "outputs": [],
   "source": [
    "connection.close()"
   ]
  },
  {
   "cell_type": "markdown",
   "id": "654d4d66",
   "metadata": {},
   "source": [
    "# Create Snowflake connection\n"
   ]
  },
  {
   "cell_type": "code",
   "execution_count": 179,
   "id": "1dbd7917",
   "metadata": {},
   "outputs": [],
   "source": [
    "snowflake_conn = snowflake.connector.connect(\n",
    "    user='BHAGYESH',\n",
    "    password='21Believe21',\n",
    "    account='tvpxgnt-wb46719',\n",
    "    warehouse='COMPUTE_WH',\n",
    "    database='TESY',\n",
    "    schema='PUBLIC'\n",
    ")\n",
    "\n",
    "snowflake_cursor = snowflake_conn.cursor()"
   ]
  },
  {
   "cell_type": "markdown",
   "id": "25383e7f",
   "metadata": {},
   "source": [
    "# Create a stage in Snowflake"
   ]
  },
  {
   "cell_type": "code",
   "execution_count": 180,
   "id": "2d82ca27",
   "metadata": {},
   "outputs": [
    {
     "data": {
      "text/plain": [
       "<snowflake.connector.cursor.SnowflakeCursor at 0x2da67ab7d60>"
      ]
     },
     "execution_count": 180,
     "metadata": {},
     "output_type": "execute_result"
    }
   ],
   "source": [
    "stage_name = 'pandas_to_snowflake_stage'\n",
    "create_stage_query = f\"CREATE OR REPLACE STAGE {stage_name}\"\n",
    "snowflake_cursor.execute(create_stage_query)\n"
   ]
  },
  {
   "cell_type": "markdown",
   "id": "7cf59d84",
   "metadata": {},
   "source": [
    "# Put the CSV data in the stage"
   ]
  },
  {
   "cell_type": "code",
   "execution_count": 181,
   "id": "f2f1945f",
   "metadata": {},
   "outputs": [
    {
     "data": {
      "text/plain": [
       "<snowflake.connector.cursor.SnowflakeCursor at 0x2da67ab7d60>"
      ]
     },
     "execution_count": 181,
     "metadata": {},
     "output_type": "execute_result"
    }
   ],
   "source": [
    "put_query = f\"PUT file://temp.csv @{stage_name}\"\n",
    "snowflake_cursor.execute(put_query, csv_data)"
   ]
  },
  {
   "cell_type": "markdown",
   "id": "999c8d2d",
   "metadata": {},
   "source": [
    "# Copy data from the stage into the Snowflake table"
   ]
  },
  {
   "cell_type": "code",
   "execution_count": 182,
   "id": "369124f8",
   "metadata": {},
   "outputs": [
    {
     "data": {
      "text/plain": [
       "<snowflake.connector.cursor.SnowflakeCursor at 0x2da67ab7d60>"
      ]
     },
     "execution_count": 182,
     "metadata": {},
     "output_type": "execute_result"
    }
   ],
   "source": [
    "\n",
    "copy_query = f\"COPY INTO employee FROM @{stage_name}/temp.csv FILE_FORMAT=(TYPE=CSV SKIP_HEADER=1)\"\n",
    "snowflake_cursor.execute(copy_query)\n"
   ]
  },
  {
   "cell_type": "code",
   "execution_count": null,
   "id": "36377b9c",
   "metadata": {},
   "outputs": [],
   "source": []
  },
  {
   "cell_type": "code",
   "execution_count": 183,
   "id": "49735c95",
   "metadata": {},
   "outputs": [],
   "source": [
    "# Query and fetch data from Snowflake\n",
    "snowflake_query = \"SELECT * FROM employee\"\n",
    "snowflake_cursor = snowflake_conn.cursor()\n",
    "snowflake_cursor = snowflake_conn.cursor()\n",
    "snowflake_cursor.execute(snowflake_query)\n",
    "snowflake_df = snowflake_cursor.fetch_pandas_all()"
   ]
  },
  {
   "cell_type": "code",
   "execution_count": 187,
   "id": "cccf8459",
   "metadata": {},
   "outputs": [
    {
     "data": {
      "text/plain": [
       "EMPLOYEE_ID      int8\n",
       "FIRST_NAME     object\n",
       "LAST_NAME      object\n",
       "DEPARTMENT     object\n",
       "SALARY          int32\n",
       "dtype: object"
      ]
     },
     "execution_count": 187,
     "metadata": {},
     "output_type": "execute_result"
    }
   ],
   "source": [
    "snowflake_df.dtypes"
   ]
  },
  {
   "cell_type": "code",
   "execution_count": null,
   "id": "997b7ef3",
   "metadata": {},
   "outputs": [],
   "source": []
  },
  {
   "cell_type": "markdown",
   "id": "35ef204d",
   "metadata": {},
   "source": [
    "# Close the cursor and connection"
   ]
  },
  {
   "cell_type": "code",
   "execution_count": 185,
   "id": "fdf63440",
   "metadata": {},
   "outputs": [],
   "source": [
    "# Close Snowflake connection\n",
    "snowflake_cursor.close()\n",
    "snowflake_conn.close()"
   ]
  },
  {
   "cell_type": "code",
   "execution_count": 186,
   "id": "1ab24b92",
   "metadata": {},
   "outputs": [
    {
     "name": "stdout",
     "output_type": "stream",
     "text": [
      "Data types mismatch\n"
     ]
    }
   ],
   "source": [
    "\n",
    "\n",
    "# Perform Quality Check\n",
    "def perform_quality_check(df1, df2):\n",
    "    if df1.shape != df2.shape:\n",
    "        return \"Row count mismatch\"\n",
    "    \n",
    "#     if list(df1.columns) != list(df2.columns):\n",
    "#         return \"Column names mismatch\"\n",
    "    \n",
    "    if not df1.dtypes.equals(df2.dtypes):\n",
    "        return \"Data types mismatch\"\n",
    "    \n",
    "    return \"Data quality check passed\"\n",
    "\n",
    "result = perform_quality_check(maria_df, snowflake_df)\n",
    "print(result)"
   ]
  },
  {
   "cell_type": "code",
   "execution_count": null,
   "id": "15b33f56",
   "metadata": {},
   "outputs": [],
   "source": []
  },
  {
   "cell_type": "code",
   "execution_count": null,
   "id": "3ffd152f",
   "metadata": {},
   "outputs": [],
   "source": []
  },
  {
   "cell_type": "code",
   "execution_count": null,
   "id": "f831982b",
   "metadata": {},
   "outputs": [],
   "source": []
  }
 ],
 "metadata": {
  "kernelspec": {
   "display_name": "Python 3 (ipykernel)",
   "language": "python",
   "name": "python3"
  },
  "language_info": {
   "codemirror_mode": {
    "name": "ipython",
    "version": 3
   },
   "file_extension": ".py",
   "mimetype": "text/x-python",
   "name": "python",
   "nbconvert_exporter": "python",
   "pygments_lexer": "ipython3",
   "version": "3.9.6"
  }
 },
 "nbformat": 4,
 "nbformat_minor": 5
}
